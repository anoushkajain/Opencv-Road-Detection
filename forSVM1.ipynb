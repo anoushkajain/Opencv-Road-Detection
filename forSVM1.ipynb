{
 "cells": [
  {
   "cell_type": "code",
   "execution_count": 1,
   "metadata": {},
   "outputs": [],
   "source": [
    "import cv2\n",
    "import matplotlib.pyplot as plt\n",
    "import numpy as np\n",
    "import os\n",
    "from scipy import stats"
   ]
  },
  {
   "cell_type": "code",
   "execution_count": 2,
   "metadata": {},
   "outputs": [],
   "source": [
    "inputImage = cv2.imread(\"/Users/anoushkajain/Desktop/neg.jpg\") #neg image\n",
    "original = cv2.cvtColor(inputImage, cv2.COLOR_RGB2GRAY)\n",
    "duplicate = cv2.cvtColor(inputImage, cv2.COLOR_RGB2GRAY)\n",
    "plt.imshow(original, cmap = \"gray\") "
   ]
  },
  {
   "cell_type": "code",
   "execution_count": 5,
   "metadata": {},
   "outputs": [
    {
     "data": {
      "text/plain": [
       "<matplotlib.image.AxesImage at 0x11db68898>"
      ]
     },
     "execution_count": 5,
     "metadata": {},
     "output_type": "execute_result"
    },
    {
     "data": {
      "image/png": "[encoded data removed]",
      "text/plain": [
       "<Figure size 432x288 with 1 Axes>"
      ]
     },
     "metadata": {},
     "output_type": "display_data"
    }
   ],
   "source": [
    "plt.imshow(duplicate, cmap = \"gray\")"
   ]
  },
  {
   "cell_type": "code",
   "execution_count": 6,
   "metadata": {},
   "outputs": [
    {
     "name": "stdout",
     "output_type": "stream",
     "text": [
      "(369, 670)\n"
     ]
    }
   ],
   "source": [
    "height,width = original.shape\n",
    "print(original.shape)"
   ]
  },
  {
   "cell_type": "code",
   "execution_count": 7,
   "metadata": {},
   "outputs": [],
   "source": [
    "def image_transform(img):\n",
    "    for i in range(0,(width - 16),16):\n",
    "        for j in range(0, (height - 16),16):\n",
    "            patch = img[j:(j+16),i:(i+16)]   #store patch of 16x16\n",
    "            patch_2D = np.array(patch)         #convert list to 2d array\n",
    "            patch_1D = patch_2D.flatten()      #convert 2d to 1d array\n",
    "            mode_value = stats.mode(patch_1D)  #mode for patch\n",
    "            mode = (mode_value[0])             #store mode value\n",
    "                      \n",
    "            for k in range(i,(i+ 16)):\n",
    "                for l in range(j, (j+ 16)):\n",
    "                    duplicate[l][k] = mode\n",
    "                "
   ]
  },
  {
   "cell_type": "code",
   "execution_count": 8,
   "metadata": {},
   "outputs": [
    {
     "data": {
      "text/plain": [
       "<matplotlib.image.AxesImage at 0x11dd0b0f0>"
      ]
     },
     "execution_count": 8,
     "metadata": {},
     "output_type": "execute_result"
    },
    {
     "data": {
      "image/png": "[encoded data removed]",
      "text/plain": [
       "<Figure size 432x288 with 1 Axes>"
      ]
     },
     "metadata": {},
     "output_type": "display_data"
    }
   ],
   "source": [
    "image_transform(original)\n",
    "plt.imshow(duplicate, cmap = \"gray\")"
   ]
  },
  {
   "cell_type": "code",
   "execution_count": 13,
   "metadata": {},
   "outputs": [
    {
     "data": {
      "image/png": "[encoded data removed]",
      "text/plain": [
       "<Figure size 432x288 with 1 Axes>"
      ]
     },
     "metadata": {},
     "output_type": "display_data"
    },
    {
     "data": {
      "text/plain": [
       "array([  0,   0,   0,   0,   0,   0,   0,   0,   0,   0,   0,   0,   0,\n",
       "         0,   0,   0,   0,   0,   0,   0,   0,   0,   0,   0,   0,   0,\n",
       "         0,   0,   0,   0,   0,   0,   0,   0,   0,   0,   0,   0,   0,\n",
       "         0,   0,   0,   0,   0,   0,   0,   0,   0,   0,   0,   0,   0,\n",
       "         0,   0,   0,   0,   0,   0,   2,   0,   0, 255,   0,   0,   0,\n",
       "         0,   0,   0,   0,   0,   0,   0, 253,   0,   0, 182, 255,   0,\n",
       "         0,   0,   0,   0,   0,   0,   0,   0,   0, 255,   0,   0,   0,\n",
       "         0,   0,   0,   0,   0,   0,   0,   0,   0,   0,   0,   0,   0,\n",
       "         0,   0,   0,   0,   0,   0,   0,   0,   0,   0,   0,   0,   0,\n",
       "         0,   0,   0,   0,   0,   0,   0,   0,   0,   0,   0,   0,   0,\n",
       "         0,   0,   0,   0,   0,   0,   0,   0,   0,   0,   0,   0,   0,\n",
       "         2,   0,   0,   0,   0,   0,   0,   0,   0,   0,   0,   0, 254,\n",
       "       255, 255, 255, 255,   0,   0,   0,   0,   0,   0,   0,   0,   0,\n",
       "         0,   0,   0, 255, 255, 255, 255,   0,   0,   0,   1,   0,   0,\n",
       "         0,   2, 255,   3, 255, 255, 255, 255, 255, 255,   0,   0,   0,\n",
       "         0,   0,   0,   0,   1, 255, 255, 255, 255, 255, 255, 255, 255,\n",
       "         0,   0,   0,   0,   0,   0,   0,   2, 255, 255, 255, 255, 255,\n",
       "       255, 255, 255,   0,   0,   0,   0,   0,   0,   0,   1, 255, 255,\n",
       "       255, 255, 255, 255, 255, 255,   0,   1, 247, 247, 255, 255, 255,\n",
       "       255, 255, 255, 255, 255, 255, 255, 255, 255], dtype=uint8)"
      ]
     },
     "execution_count": 13,
     "metadata": {},
     "output_type": "execute_result"
    }
   ],
   "source": [
    "X = []\n",
    "Y= []\n",
    "for each image:\n",
    "    img16 = cv2.resize(original, (16,16))\n",
    "    plt.imshow(img16, cmap=\"gray\")\n",
    "    plt.show()\n",
    "    X.append(img16.reshape(256))\n",
    "    Y.append(folder = the positive one)"
   ]
  },
  {
   "cell_type": "code",
   "execution_count": 9,
   "metadata": {},
   "outputs": [],
   "source": [
    "def image_transform(image):\n",
    "    patches_mode=[]\n",
    "    for i in range(0,(width - 16),16):\n",
    "        for j in range(0, (height - 16),16):\n",
    "            patch = image[j:(j+16),i:(i+16)]   #store patch of 16x16\n",
    "            patch_2D = np.array(patch)         #convert list to 2d array\n",
    "            patch_1D = patch_2D.flatten()      #convert 2d to 1d array\n",
    "            mode_value = stats.mode(patch_1D)  #mode for patch\n",
    "            mode = (mode_value[0])       #store mode value\n",
    "            patches_mode.append(mode[0])\n",
    "            for k in range(i,(i+ 16)):\n",
    "                for l in range(j, (j+ 16)):\n",
    "                    duplicate[l][k] = mode\n",
    "    return patches_mode"
   ]
  },
  {
   "cell_type": "code",
   "execution_count": null,
   "metadata": {},
   "outputs": [],
   "source": [
    "image_transform(original)\n",
    "plt.imshow(duplicate, cmap = \"gray\")\n",
    "print(len(mode))\n",
    "print(modes)"
   ]
  },
  {
   "cell_type": "code",
   "execution_count": 79,
   "metadata": {},
   "outputs": [
    {
     "ename": "TypeError",
     "evalue": "'numpy.uint8' object is not iterable",
     "output_type": "error",
     "traceback": [
      "\u001b[0;31m---------------------------------------------------------------------------\u001b[0m",
      "\u001b[0;31mTypeError\u001b[0m                                 Traceback (most recent call last)",
      "\u001b[0;32m<ipython-input-79-5e4a6041890e>\u001b[0m in \u001b[0;36m<module>\u001b[0;34m()\u001b[0m\n\u001b[1;32m      5\u001b[0m     \u001b[0;32mfor\u001b[0m \u001b[0mlist1\u001b[0m \u001b[0;32min\u001b[0m \u001b[0mpatch\u001b[0m\u001b[0;34m:\u001b[0m\u001b[0;34m\u001b[0m\u001b[0m\n\u001b[1;32m      6\u001b[0m \u001b[0;34m\u001b[0m\u001b[0m\n\u001b[0;32m----> 7\u001b[0;31m         \u001b[0;32mfor\u001b[0m \u001b[0mlist2\u001b[0m \u001b[0;32min\u001b[0m \u001b[0mlist1\u001b[0m\u001b[0;34m:\u001b[0m\u001b[0;34m\u001b[0m\u001b[0m\n\u001b[0m\u001b[1;32m      8\u001b[0m \u001b[0;34m\u001b[0m\u001b[0m\n\u001b[1;32m      9\u001b[0m             \u001b[0;32mfor\u001b[0m \u001b[0melement\u001b[0m \u001b[0;32min\u001b[0m \u001b[0mlist2\u001b[0m\u001b[0;34m:\u001b[0m\u001b[0;34m\u001b[0m\u001b[0m\n",
      "\u001b[0;31mTypeError\u001b[0m: 'numpy.uint8' object is not iterable"
     ]
    }
   ],
   "source": [
    "encoding = []\n",
    "for patch in res3:\n",
    "    flag = False\n",
    "    #if white in patch \n",
    "    for list1 in patch:\n",
    "        \n",
    "        for list2 in list1:\n",
    "            \n",
    "            for element in list2:\n",
    "                \n",
    "                  if element==255:   # 255 is white\n",
    "                    flag=True\n",
    "                    break\n",
    "                    \n",
    "            if flag == True:        \n",
    "                break\n",
    "                \n",
    "        if flag == True: \n",
    "            break\n",
    "    if flag == True: \n",
    "        encoding.append(1)          # 255 -> 1\n",
    "    else:\n",
    "        encoding.append(0)          #black\n",
    "print(len(encoding))\n",
    "\n",
    "    "
   ]
  },
  {
   "cell_type": "code",
   "execution_count": null,
   "metadata": {},
   "outputs": [],
   "source": []
  },
  {
   "cell_type": "code",
   "execution_count": 29,
   "metadata": {},
   "outputs": [
    {
     "name": "stdout",
     "output_type": "stream",
     "text": [
      "[0, 0, 0, 0, 0, 0, 0, 0, 0, 0, 0, 0, 0, 0, 0, 0, 0, 0, 0, 0, 0, 0]\n"
     ]
    }
   ],
   "source": [
    "print(encoding)"
   ]
  },
  {
   "cell_type": "code",
   "execution_count": null,
   "metadata": {},
   "outputs": [],
   "source": [
    "def gradientDescent(x, y, theta, alpha, m, numIterations): \n",
    "    xTrans = x.transpose() \n",
    "    for i in range(0, numIterations):\n",
    "        hypothesis = np.dot(x, theta) \n",
    "        loss = hypothesis - y \n",
    "        np.sum(loss ** 2) / (2 * m) \n",
    "        print(\"Iteration %d | Cost: %f\" % (i, cost))  \n",
    "        m, n = np.shape(x) \n",
    "        numIterations= 100000 \n",
    "        alpha = 0.0005 \n",
    "        theta = np.ones(n) \n",
    "        theta = gradientDescent(x, y, theta, alpha, m, numIterations) \n",
    "        print(theta)"
   ]
  }
 ],
 "metadata": {
  "kernelspec": {
   "display_name": "Python 3",
   "language": "python",
   "name": "python3"
  },
  "language_info": {
   "codemirror_mode": {
    "name": "ipython",
    "version": 3
   },
   "file_extension": ".py",
   "mimetype": "text/x-python",
   "name": "python",
   "nbconvert_exporter": "python",
   "pygments_lexer": "ipython3",
   "version": "3.7.0"
  }
 },
 "nbformat": 4,
 "nbformat_minor": 2
}
